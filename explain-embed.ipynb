{
 "metadata": {
  "name": ""
 },
 "nbformat": 3,
 "nbformat_minor": 0,
 "worksheets": [
  {
   "cells": [
    {
     "cell_type": "markdown",
     "metadata": {},
     "source": [
      "# Low-Dimensional Embedding\n",
      "\n",
      "Data reduction is a critical element in analysis. A common application of data reduction is to embed observations from a high-dimensional space into a lower-dimensional space in which analysis and interpretation are more tractable.\n",
      "\n",
      "In this notebook, we will quickly explore some of the most basic embedding methods, beginning with PCA."
     ]
    },
    {
     "cell_type": "markdown",
     "metadata": {},
     "source": [
      "## Principal Component Analysis (PCA)\n",
      "\n",
      "$\\mathbf{A} = \\mathbf{X X}^T$"
     ]
    },
    {
     "cell_type": "code",
     "collapsed": false,
     "input": [
      "import numpy as np\n",
      "import scipy as sp\n",
      "import matplotlib.pyplot as plt"
     ],
     "language": "python",
     "metadata": {},
     "outputs": [],
     "prompt_number": 26
    },
    {
     "cell_type": "code",
     "collapsed": false,
     "input": [
      "n = 10\n",
      "k = 3\n",
      "X = np.concatenate((sp.rand(n,k), sp.rand(n,k), sp.rand(n,k)),0)"
     ],
     "language": "python",
     "metadata": {},
     "outputs": [],
     "prompt_number": 27
    }
   ],
   "metadata": {}
  }
 ]
}